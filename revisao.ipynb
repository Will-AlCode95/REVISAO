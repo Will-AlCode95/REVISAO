{
 "cells": [
  {
   "cell_type": "markdown",
   "id": "ae350dd7",
   "metadata": {},
   "source": [
    "## REVISÃO VARIÁVEIS, OPERADORES, VALORES BOLEANOS, OBJETOS, FUNÇÕES, LISTAS, DICION"
   ]
  },
  {
   "cell_type": "code",
   "execution_count": 7,
   "id": "01f8d729",
   "metadata": {},
   "outputs": [
    {
     "name": "stdout",
     "output_type": "stream",
     "text": [
      "{'moedas': 80, 'itens': 50, 'inimigos': 180}\n"
     ]
    }
   ],
   "source": [
    "def calcular_placar():  #função\n",
    "    valor_moeda = 4\n",
    "    valor_item = 5\n",
    "    valor_inimigo = 6\n",
    "\n",
    "    moedas = 20\n",
    "    itens = 10\n",
    "    inimigos = 30\n",
    "\n",
    "    placar = {    #dicionario\n",
    "    \"moedas\": valor_moeda * moedas,\n",
    "    \"itens\": valor_item * itens,\n",
    "    \"inimigos\": valor_inimigo * inimigos\n",
    "     }\n",
    "    #return placar\n",
    "    #def valores():\n",
    "       #return(valor_moeda, valor_item, valor_inimigo)\n",
    "\n",
    "    return placar\n",
    "   \n",
    "t = calcular_placar()  #atribui calcular_placar ao t\n",
    "print(t)    \n",
    "\n",
    "\n"
   ]
  },
  {
   "cell_type": "code",
   "execution_count": 8,
   "id": "95dc26bf",
   "metadata": {},
   "outputs": [],
   "source": [
    "def totais(itens, inimigos, moedas):  #obriga a atribuir um valor para essas 3 variáveis\n",
    "   return itens + inimigos + moedas "
   ]
  },
  {
   "cell_type": "code",
   "execution_count": 9,
   "id": "b3539334",
   "metadata": {},
   "outputs": [
    {
     "name": "stdout",
     "output_type": "stream",
     "text": [
      "30\n",
      "60\n"
     ]
    }
   ],
   "source": [
    "print(totais(10, 10, 10))   #atribui os 3 valores para as 3 variáveis e imprimi na tela\n",
    "print(totais(20, 20, 20))   #substitui os 3 valores por novos"
   ]
  },
  {
   "cell_type": "code",
   "execution_count": 10,
   "id": "866701dd",
   "metadata": {},
   "outputs": [
    {
     "name": "stdout",
     "output_type": "stream",
     "text": [
      "630\n"
     ]
    }
   ],
   "source": [
    "# Valores\n",
    "def calcula_moeda():\n",
    "   moeda_valor = 4 \n",
    "   item_valor = 10\n",
    "   ouro_valor = 15\n",
    "   moeda_quant = 20\n",
    "   item_quant = 10 \n",
    "   ouro_quant = 30\n",
    "   \n",
    "   total_moeda = moeda_quant * moeda_valor\n",
    "   total_item = item_quant * item_valor\n",
    "   total_ouro = ouro_quant * ouro_valor\n",
    "   renda_final = total_moeda + total_item + total_ouro\n",
    "   return renda_final\n",
    "\n",
    "t = calcula_moeda()\n",
    "print(t)\n",
    "\n"
   ]
  },
  {
   "cell_type": "code",
   "execution_count": 11,
   "id": "fda46b19",
   "metadata": {},
   "outputs": [
    {
     "name": "stdout",
     "output_type": "stream",
     "text": [
      "False\n"
     ]
    }
   ],
   "source": [
    "faz_sol = True\n",
    "porta_aberta = True\n",
    "continuar = not (faz_sol and porta_aberta)  #primeiro eu executo o que está nos parenteses (true and false) da false\n",
    "# pega o false e coloca na frente do not, que vai dar true porque o not inverte o valor booleano\n",
    "print(continuar)        \n"
   ]
  },
  {
   "cell_type": "code",
   "execution_count": 13,
   "id": "a3d84ed8",
   "metadata": {},
   "outputs": [
    {
     "name": "stdout",
     "output_type": "stream",
     "text": [
      "1\n",
      "2\n",
      "3\n",
      "4\n",
      "5\n",
      "6\n",
      "7\n",
      "8\n",
      "9\n",
      "10\n"
     ]
    }
   ],
   "source": [
    "i = 0\n",
    "while i < 10:\n",
    "    # do_something()\n",
    "    i += 1\n",
    "    print(i)\n"
   ]
  },
  {
   "cell_type": "code",
   "execution_count": 17,
   "id": "d7254cf5",
   "metadata": {},
   "outputs": [
    {
     "name": "stdout",
     "output_type": "stream",
     "text": [
      "The value of i is currently 0\n",
      "The value of i is currently 2\n",
      "The value of i is currently 4\n",
      "The value of i is currently 6\n"
     ]
    }
   ],
   "source": [
    "for i in range(0, 8, 2): # seu eu não passo na terceira posição um valor o seu default é 1+ no loop\n",
    "#nesse loop for o valor inicial é 2 que vai até o 7 pois no 8 ele sai do loop e não mostra nada\n",
    "    print(\"The value of i is currently\", i)"
   ]
  },
  {
   "cell_type": "code",
   "execution_count": null,
   "id": "b0711dcd",
   "metadata": {},
   "outputs": [
    {
     "data": {
      "text/plain": [
       "2"
      ]
     },
     "execution_count": 20,
     "metadata": {},
     "output_type": "execute_result"
    }
   ],
   "source": [
    "for i in range(2, 1):\n",
    "    print(\"The value of i is currently\", i)\n",
    "    \n",
    "\n"
   ]
  },
  {
   "cell_type": "code",
   "execution_count": null,
   "id": "87f029e7",
   "metadata": {},
   "outputs": [
    {
     "name": "stdout",
     "output_type": "stream",
     "text": [
      "The break instruction:\n",
      "Inside the loop. 1\n",
      "Inside the loop. 2\n",
      "Outside the loop.\n",
      "\n",
      "The continue instruction:\n",
      "Inside the loop. 1\n",
      "Inside the loop. 2\n",
      "Inside the loop. 4\n",
      "Inside the loop. 5\n",
      "Outside the loop.\n"
     ]
    }
   ],
   "source": [
    "# break - example\n",
    "\n",
    "print(\"The break instruction:\")\n",
    "for i in range(1, 6):\n",
    "    if i == 3:\n",
    "        break       #para no 3\n",
    "    print(\"Inside the loop.\", i)\n",
    "print(\"Outside the loop.\")\n",
    "\n",
    "\n",
    "# continue - example\n",
    "\n",
    "print(\"\\nThe continue instruction:\")\n",
    "for i in range(1, 6):\n",
    "    if i == 3:    #continua a contar após o 3\n",
    "        continue\n",
    "    print(\"Inside the loop.\", i)\n",
    "print(\"Outside the loop.\")\n",
    "\n"
   ]
  },
  {
   "cell_type": "code",
   "execution_count": 10,
   "id": "d6eb34f5",
   "metadata": {},
   "outputs": [
    {
     "name": "stdout",
     "output_type": "stream",
     "text": [
      "4\n",
      "else: 5\n"
     ]
    }
   ],
   "source": [
    "i = 4\n",
    "while i < 5:\n",
    "    print(i)\n",
    "    i += 1\n",
    "else:\n",
    "    print(\"else:\", i)\n",
    "\n",
    "\n",
    "\n",
    "\n"
   ]
  },
  {
   "cell_type": "code",
   "execution_count": 11,
   "id": "ce232419",
   "metadata": {},
   "outputs": [
    {
     "name": "stdout",
     "output_type": "stream",
     "text": [
      "0\n",
      "1\n",
      "2\n",
      "3\n",
      "4\n",
      "else: 4\n"
     ]
    }
   ],
   "source": [
    "for i in range(5):\n",
    "    print(i)\n",
    "else:\n",
    "    print(\"else:\", i)"
   ]
  },
  {
   "cell_type": "code",
   "execution_count": 31,
   "id": "f8140f58",
   "metadata": {},
   "outputs": [
    {
     "name": "stdout",
     "output_type": "stream",
     "text": [
      "A altura da pirâmide é: 5\n"
     ]
    }
   ],
   "source": [
    "\n",
    "# Lê o número total de blocos\n",
    "blocos = int(input(\"Digite o número de blocos: \"))\n",
    "\n",
    "# Inicializa as variáveis\n",
    "altura = 0\n",
    "blocos_utilizados = 0\n",
    "\n",
    "# Loop para construir a pirâmide camada por camada\n",
    "while True:\n",
    "    # A próxima camada precisa de 'altura + 1' blocos\n",
    "    proxima_camada_blocos = altura + 1\n",
    "    \n",
    "    # Verifica se temos blocos suficientes para a próxima camada\n",
    "    if blocos_utilizados + proxima_camada_blocos <= blocos:\n",
    "        # Se tivermos, usamos os blocos e incrementamos a altura\n",
    "        blocos_utilizados += proxima_camada_blocos\n",
    "        altura += 1\n",
    "    else:\n",
    "        # Se não tivermos, o loop é interrompido\n",
    "        break\n",
    "\n",
    "# Exibe a altura da pirâmide\n",
    "print(\"A altura da pirâmide é:\", altura)"
   ]
  },
  {
   "cell_type": "code",
   "execution_count": 32,
   "id": "84d70b70",
   "metadata": {},
   "outputs": [
    {
     "name": "stdout",
     "output_type": "stream",
     "text": [
      "5\n",
      "4\n",
      "3\n"
     ]
    }
   ],
   "source": [
    "counter = 5\n",
    "while counter > 2:\n",
    "    print(counter)\n",
    "    counter -= 1"
   ]
  },
  {
   "cell_type": "code",
   "execution_count": 35,
   "id": "e6e0f3d0",
   "metadata": {},
   "outputs": [
    {
     "name": "stdout",
     "output_type": "stream",
     "text": [
      "P=)y=)t=)h=)o=)n=)"
     ]
    }
   ],
   "source": [
    "word = \"Python\"\n",
    "for letter in word:\n",
    "    print(letter, end=\"=)\")\n",
    " "
   ]
  },
  {
   "cell_type": "code",
   "execution_count": 36,
   "id": "199bce0e",
   "metadata": {},
   "outputs": [
    {
     "name": "stdout",
     "output_type": "stream",
     "text": [
      "2\n",
      "4\n",
      "6\n",
      "8\n"
     ]
    }
   ],
   "source": [
    "for i in range(1, 10):\n",
    "    if i % 2 == 0:\n",
    "        print(i)"
   ]
  },
  {
   "cell_type": "code",
   "execution_count": null,
   "id": "c6266ec6",
   "metadata": {},
   "outputs": [
    {
     "name": "stdout",
     "output_type": "stream",
     "text": [
      "OpenEDG "
     ]
    }
   ],
   "source": [
    "text = \"OpenEDG Python Institute\"\n",
    "for letter in text:\n",
    "    if letter == \"P\":  #quebra quando chega no P\n",
    "        break\n",
    "    print(letter, end=\"\")\n",
    "\n"
   ]
  },
  {
   "cell_type": "code",
   "execution_count": null,
   "id": "2d4fc12b",
   "metadata": {},
   "outputs": [
    {
     "name": "stdout",
     "output_type": "stream",
     "text": [
      "pypypy"
     ]
    }
   ],
   "source": [
    "text = \"pyxpyxpyx\"\n",
    "for letter in text:\n",
    "    if letter == \"x\": #quando encontra o x ele continua o trajeto\n",
    "        continue\n",
    "    print(letter, end=\"\") # o end=\"\" deixa as palavras em sequencia\n",
    "\n"
   ]
  },
  {
   "cell_type": "code",
   "execution_count": 42,
   "id": "86cc5086",
   "metadata": {},
   "outputs": [
    {
     "name": "stdout",
     "output_type": "stream",
     "text": [
      "0\n",
      "1\n",
      "2\n",
      "3 else\n",
      "\n",
      "0\n",
      "1\n",
      "2\n",
      "2 else\n"
     ]
    }
   ],
   "source": [
    "n = 0\n",
    "\n",
    "while n != 3:\n",
    "    print(n)\n",
    "    n += 1\n",
    "else:\n",
    "    print(n, \"else\")\n",
    "\n",
    "print()\n",
    "\n",
    "for i in range(0, 3):\n",
    "    print(i)\n",
    "else:\n",
    "    print(i, \"else\")\n",
    "\n"
   ]
  },
  {
   "cell_type": "code",
   "execution_count": null,
   "id": "9fa447d7",
   "metadata": {},
   "outputs": [
    {
     "name": "stdout",
     "output_type": "stream",
     "text": [
      "1\n",
      "3\n",
      "5\n",
      "7\n",
      "9\n"
     ]
    }
   ],
   "source": [
    "for i in range(0, 11):\n",
    "    if i % 2 != 0:     #mostra na tela somente os ímpares\n",
    "        print(i)\n"
   ]
  },
  {
   "cell_type": "code",
   "execution_count": 44,
   "id": "83fb9e10",
   "metadata": {},
   "outputs": [
    {
     "name": "stdout",
     "output_type": "stream",
     "text": [
      "john.smith"
     ]
    }
   ],
   "source": [
    "for ch in \"john.smith@pythoninstitute.org\":\n",
    "    if ch == \"@\":\n",
    "        break\n",
    "    print(ch, end=\"\")"
   ]
  },
  {
   "cell_type": "code",
   "execution_count": null,
   "id": "9c75265c",
   "metadata": {},
   "outputs": [
    {
     "name": "stdout",
     "output_type": "stream",
     "text": [
      "x165x318x651x"
     ]
    }
   ],
   "source": [
    "for digit in \"0165031806510\":\n",
    "    if digit == \"0\":\n",
    "        print(\"x\", end=\"\")    #substitue o zero pelo x\n",
    "        continue\n",
    "    print(digit, end=\"\")"
   ]
  }
 ],
 "metadata": {
  "kernelspec": {
   "display_name": "Python 3",
   "language": "python",
   "name": "python3"
  },
  "language_info": {
   "codemirror_mode": {
    "name": "ipython",
    "version": 3
   },
   "file_extension": ".py",
   "mimetype": "text/x-python",
   "name": "python",
   "nbconvert_exporter": "python",
   "pygments_lexer": "ipython3",
   "version": "3.13.5"
  }
 },
 "nbformat": 4,
 "nbformat_minor": 5
}
