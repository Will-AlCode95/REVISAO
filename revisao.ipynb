{
 "cells": [
  {
   "cell_type": "markdown",
   "id": "ae350dd7",
   "metadata": {},
   "source": [
    "## REVISÃO VARIÁVEIS, OPERADORES, VALORES BOLEANOS, OBJETOS, FUNÇÕES, LISTAS, DICION"
   ]
  },
  {
   "cell_type": "code",
   "execution_count": null,
   "id": "01f8d729",
   "metadata": {},
   "outputs": [
    {
     "data": {
      "text/plain": [
       "(4, 5, 6)"
      ]
     },
     "execution_count": 5,
     "metadata": {},
     "output_type": "execute_result"
    }
   ],
   "source": [
    "def calcular_placar():  #função\n",
    "    valor_moeda = 4\n",
    "    valor_item = 5\n",
    "    valor_inimigo = 6\n",
    "\n",
    "    moedas = 20\n",
    "    itens = 10\n",
    "    inimigos = 30\n",
    "\n",
    "    placar = {    #dicionario\n",
    "    \"moedas\": valor_moeda * moedas,\n",
    "    \"itens\": valor_item * itens,\n",
    "    \"inimigos\": valor_inimigo * inimigos\n",
    "     }\n",
    "    #return placar\n",
    "    def valores():\n",
    "       return(valor_moeda, valor_item, valor_inimigo)\n",
    "\n",
    "    return valores\n",
    "   \n",
    "t = calcular_placar()  #atribui calcular_placar ao t\n",
    "t()                    \n",
    "\n"
   ]
  },
  {
   "cell_type": "code",
   "execution_count": null,
   "id": "95dc26bf",
   "metadata": {},
   "outputs": [],
   "source": [
    "def totais(itens, inimigos, moedas):  #obriga a atribuir um valor para essas 3 variáveis\n",
    "   return itens + inimigos + moedas "
   ]
  },
  {
   "cell_type": "code",
   "execution_count": null,
   "id": "b3539334",
   "metadata": {},
   "outputs": [
    {
     "name": "stdout",
     "output_type": "stream",
     "text": [
      "30\n",
      "60\n"
     ]
    }
   ],
   "source": [
    "print(totais(10, 10, 10))   #atribui os 3 valores para as 3 variáveis e imprimi na tela\n",
    "print(totais(20, 20, 20))   #substitui os 3 valores por novos"
   ]
  }
 ],
 "metadata": {
  "kernelspec": {
   "display_name": "Python 3",
   "language": "python",
   "name": "python3"
  },
  "language_info": {
   "codemirror_mode": {
    "name": "ipython",
    "version": 3
   },
   "file_extension": ".py",
   "mimetype": "text/x-python",
   "name": "python",
   "nbconvert_exporter": "python",
   "pygments_lexer": "ipython3",
   "version": "3.13.2"
  }
 },
 "nbformat": 4,
 "nbformat_minor": 5
}
