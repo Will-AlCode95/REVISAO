{
 "cells": [
  {
   "cell_type": "markdown",
   "id": "ae350dd7",
   "metadata": {},
   "source": [
    "## REVISÃO VARIÁVEIS, OPERADORES, VALORES BOLEANOS, OBJETOS, FUNÇÕES, LISTAS, DICION"
   ]
  },
  {
   "cell_type": "code",
   "execution_count": null,
   "id": "01f8d729",
   "metadata": {},
   "outputs": [
    {
     "name": "stdout",
     "output_type": "stream",
     "text": [
      "{'moedas': 80, 'itens': 50, 'inimigos': 180}\n",
      "True\n"
     ]
    }
   ],
   "source": [
    "def calcular_placar():  #função\n",
    "    valor_moeda = 4\n",
    "    valor_item = 5\n",
    "    valor_inimigo = 6\n",
    "\n",
    "    moedas = 20\n",
    "    itens = 10\n",
    "    inimigos = 30\n",
    "\n",
    "    placar = {    #dicionario\n",
    "    \"moedas\": valor_moeda * moedas,\n",
    "    \"itens\": valor_item * itens,\n",
    "    \"inimigos\": valor_inimigo * inimigos\n",
    "     }\n",
    "    #return placar\n",
    "    #def valores():\n",
    "       #return(valor_moeda, valor_item, valor_inimigo)\n",
    "\n",
    "    return placar\n",
    "   \n",
    "t = calcular_placar()  #atribui calcular_placar ao t\n",
    "print(t)    \n",
    "\n",
    "\n"
   ]
  },
  {
   "cell_type": "code",
   "execution_count": 1,
   "id": "95dc26bf",
   "metadata": {},
   "outputs": [],
   "source": [
    "def totais(itens, inimigos, moedas):  #obriga a atribuir um valor para essas 3 variáveis\n",
    "   return itens + inimigos + moedas "
   ]
  },
  {
   "cell_type": "code",
   "execution_count": 3,
   "id": "b3539334",
   "metadata": {},
   "outputs": [
    {
     "name": "stdout",
     "output_type": "stream",
     "text": [
      "30\n",
      "60\n"
     ]
    }
   ],
   "source": [
    "print(totais(10, 10, 10))   #atribui os 3 valores para as 3 variáveis e imprimi na tela\n",
    "print(totais(20, 20, 20))   #substitui os 3 valores por novos"
   ]
  },
  {
   "cell_type": "code",
   "execution_count": 4,
   "id": "866701dd",
   "metadata": {},
   "outputs": [
    {
     "name": "stdout",
     "output_type": "stream",
     "text": [
      "630\n"
     ]
    }
   ],
   "source": [
    "# Valores\n",
    "def calcula_moeda():\n",
    "   moeda_valor = 4 \n",
    "   item_valor = 10\n",
    "   ouro_valor = 15\n",
    "   moeda_quant = 20\n",
    "   item_quant = 10 \n",
    "   ouro_quant = 30\n",
    "   \n",
    "   total_moeda = moeda_quant * moeda_valor\n",
    "   total_item = item_quant * item_valor\n",
    "   total_ouro = ouro_quant * ouro_valor\n",
    "   renda_final = total_moeda + total_item + total_ouro\n",
    "   return renda_final\n",
    "\n",
    "t = calcula_moeda()\n",
    "print(t)\n",
    "\n"
   ]
  },
  {
   "cell_type": "code",
   "execution_count": 6,
   "id": "fda46b19",
   "metadata": {},
   "outputs": [
    {
     "name": "stdout",
     "output_type": "stream",
     "text": [
      "False\n"
     ]
    }
   ],
   "source": [
    "faz_sol = True\n",
    "porta_aberta = True\n",
    "continuar = not (faz_sol and porta_aberta)  #primeiro eu executo o que está nos parenteses (true and false) da false\n",
    "# pega o false e coloca na frente do not, que vai dar true porque o not inverte o valor booleano\n",
    "print(continuar)        \n"
   ]
  }
 ],
 "metadata": {
  "kernelspec": {
   "display_name": "Python 3",
   "language": "python",
   "name": "python3"
  },
  "language_info": {
   "codemirror_mode": {
    "name": "ipython",
    "version": 3
   },
   "file_extension": ".py",
   "mimetype": "text/x-python",
   "name": "python",
   "nbconvert_exporter": "python",
   "pygments_lexer": "ipython3",
   "version": "3.13.5"
  }
 },
 "nbformat": 4,
 "nbformat_minor": 5
}
